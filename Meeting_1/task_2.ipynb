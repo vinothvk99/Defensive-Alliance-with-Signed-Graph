{
 "cells": [
  {
   "cell_type": "markdown",
   "metadata": {},
   "source": [
    "Task-2"
   ]
  },
  {
   "cell_type": "markdown",
   "metadata": {},
   "source": [
    "•\tWrite a procedure that determines that maximum (positive, negative) maximum or minimum degree of a given signed graph."
   ]
  },
  {
   "cell_type": "markdown",
   "metadata": {},
   "source": [
    " The degree of a vertex in a graph is the number of edges incident to that vertex. The positive degree of a vertex is the number of positive edges incident to it, while the negative degree is the number of negative edges incident to it. The maximum (positive/negative) degree is the highest positive/negative degree among all vertices, and the minimum degree is the smallest degree overall."
   ]
  },
  {
   "cell_type": "code",
   "execution_count": 32,
   "metadata": {},
   "outputs": [],
   "source": [
    "def parse_signed_graph_file(file_path):\n",
    "    graph = {}\n",
    "    with open(file_path, 'r') as file:\n",
    "        for line in file:\n",
    "            vertex1, vertex2, sign = line.split()\n",
    "            vertex1 = int(vertex1)\n",
    "            vertex2 = int(vertex2)\n",
    "            sign = int(sign)\n",
    "            if vertex1 not in graph:\n",
    "                graph[vertex1] = []\n",
    "            if vertex2 not in graph:\n",
    "                graph[vertex2] = []\n",
    "            graph[vertex1].append(sign)\n",
    "            #graph[vertex2].append(-sign)  # Add the opposite sign for the other vertex\n",
    "    return graph"
   ]
  },
  {
   "cell_type": "code",
   "execution_count": 30,
   "metadata": {},
   "outputs": [],
   "source": [
    "def compute_signed_graph_degrees(graph):\n",
    "    # Initialize variables to track maximum and minimum degrees\n",
    "    max_positive_degree = 0\n",
    "    max_negative_degree = 0\n",
    "    min_degree = float('inf')\n",
    "\n",
    "    for vertex, neighbors in graph.items():\n",
    "        # Initialize variables to count positive and negative degrees of the current vertex\n",
    "        positive_degree = 0\n",
    "        negative_degree = 0\n",
    "\n",
    "        for neighbor in neighbors:\n",
    "            # Count positive and negative edges\n",
    "            if neighbor > 0:\n",
    "                positive_degree += 1\n",
    "            elif neighbor < 0:\n",
    "                negative_degree += 1\n",
    "\n",
    "        # Update maximum (positive/negative) degree if necessary\n",
    "        max_positive_degree = max(max_positive_degree, positive_degree)\n",
    "        max_negative_degree = max(max_negative_degree, negative_degree)\n",
    "\n",
    "        # Update minimum degree if necessary\n",
    "        total_degree = positive_degree + negative_degree\n",
    "        min_degree = min(min_degree, total_degree)\n",
    "\n",
    "    return max_positive_degree, max_negative_degree, min_degree"
   ]
  },
  {
   "cell_type": "code",
   "execution_count": 33,
   "metadata": {},
   "outputs": [
    {
     "name": "stdout",
     "output_type": "stream",
     "text": [
      "Maximum positive degree: 1\n",
      "Maximum negative degree: 1\n",
      "Minimum degree: 1\n"
     ]
    }
   ],
   "source": [
    "# Example usage:\n",
    "file_path = r\"/Users/mac/Desktop/Desktop/RCS_SignedGraphs/test.txt\"\n",
    "\n",
    "graph = parse_signed_graph_file(file_path)\n",
    "max_pos_deg, max_neg_deg, min_deg = compute_signed_graph_degrees(graph)\n",
    "print(\"Maximum positive degree:\", max_pos_deg)\n",
    "print(\"Maximum negative degree:\", max_neg_deg)\n",
    "print(\"Minimum degree:\", min_deg)"
   ]
  }
 ],
 "metadata": {
  "kernelspec": {
   "display_name": "Python 3 (ipykernel)",
   "language": "python",
   "name": "python3"
  },
  "language_info": {
   "codemirror_mode": {
    "name": "ipython",
    "version": 3
   },
   "file_extension": ".py",
   "mimetype": "text/x-python",
   "name": "python",
   "nbconvert_exporter": "python",
   "pygments_lexer": "ipython3",
   "version": "3.9.13"
  }
 },
 "nbformat": 4,
 "nbformat_minor": 2
}
