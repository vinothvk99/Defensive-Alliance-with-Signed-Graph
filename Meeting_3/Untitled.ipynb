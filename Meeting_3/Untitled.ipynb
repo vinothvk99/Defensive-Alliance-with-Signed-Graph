{
 "cells": [
  {
   "cell_type": "code",
   "execution_count": 6,
   "id": "99360ce7",
   "metadata": {},
   "outputs": [
    {
     "data": {
      "image/png": "[encoded data removed]",
      "text/plain": [
       "<Figure size 640x480 with 1 Axes>"
      ]
     },
     "metadata": {},
     "output_type": "display_data"
    }
   ],
   "source": [
    "import networkx as nx\n",
    "import matplotlib.pyplot as plt\n",
    "\n",
    "# Create a sample graph\n",
    "G = nx.Graph()\n",
    "G.add_nodes_from([1, 2, 3, 4, 5])\n",
    "\n",
    "# Define positions for the nodes\n",
    "pos = {1: (0, 0), 2: (1, 1), 3: (1, -1), 4: (2, 1), 5: (2, -1)}\n",
    "\n",
    "# Create a list of nodes to be drawn (nodelist)\n",
    "nodes_to_draw = [1, 2, 3]\n",
    "nodes_to_draw_rem = [4,5]# Specify the nodes you want to draw\n",
    "\n",
    "# Draw the nodes with specified positions and appearance\n",
    "nx.draw_networkx_nodes(G, pos, nodelist=nodes_to_draw, node_color='blue', node_size=200)\n",
    "nx.draw_networkx_nodes(G, pos, nodelist=nodes_to_draw_rem, node_color='red', node_size=200)\n",
    "\n",
    "# Draw the entire graph (without specifying nodelist)\n",
    "# nx.draw(G, pos, with_labels=True, node_color='lightgray', node_size=1000, font_size=12, font_color='black')\n",
    "\n",
    "# Display the graph\n",
    "plt.axis('off')\n",
    "plt.show()\n"
   ]
  },
  {
   "cell_type": "code",
   "execution_count": null,
   "id": "6d66b32d",
   "metadata": {},
   "outputs": [],
   "source": []
  }
 ],
 "metadata": {
  "kernelspec": {
   "display_name": "Python 3 (ipykernel)",
   "language": "python",
   "name": "python3"
  },
  "language_info": {
   "codemirror_mode": {
    "name": "ipython",
    "version": 3
   },
   "file_extension": ".py",
   "mimetype": "text/x-python",
   "name": "python",
   "nbconvert_exporter": "python",
   "pygments_lexer": "ipython3",
   "version": "3.9.13"
  }
 },
 "nbformat": 4,
 "nbformat_minor": 5
}
