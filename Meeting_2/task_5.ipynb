{
 "cells": [
  {
   "cell_type": "code",
   "execution_count": 4,
   "metadata": {},
   "outputs": [
    {
     "name": "stdout",
     "output_type": "stream",
     "text": [
      "Smallest defensive alliance: [1, 4]\n"
     ]
    }
   ],
   "source": [
    "import networkx as nx\n",
    "\n",
    "def smallest_defensive_alliance(G):\n",
    "    if not nx.is_connected(G):\n",
    "        return \"No defensive alliance exists for the input graph.\"\n",
    "\n",
    "    # Initialize a list to store the vertices in the defensive alliance\n",
    "    defensive_alliance = []\n",
    "\n",
    "    # Iterate through the vertices of the graph\n",
    "    for node in G.nodes():\n",
    "        # Check if adding the current node to the defensive alliance is safe\n",
    "        if is_safe(defensive_alliance + [node], G):\n",
    "            defensive_alliance.append(node)\n",
    "\n",
    "    return defensive_alliance\n",
    "\n",
    "def is_safe(alliance, G):\n",
    "    for u in alliance:\n",
    "        for v in G.neighbors(u):\n",
    "            # Check if there is an edge between u and v\n",
    "            if G.has_edge(u, v):\n",
    "                # Check if the edge is negative (conflict)\n",
    "                if G[u][v]['sign'] == -1 and v not in alliance:\n",
    "                    return False\n",
    "            else:\n",
    "                # Check if adding v to the alliance would create more than 3 neighbors\n",
    "                if len(set(G.neighbors(v)).intersection(alliance)) > 3:\n",
    "                    return False\n",
    "    return True\n",
    "\n",
    "# Example usage:\n",
    "G = nx.Graph()\n",
    "G.add_edges_from([(1, 2, {'sign': 1}), (1, 3, {'sign': 1}), (2, 3, {'sign': -1}), (3, 4, {'sign': 1})])\n",
    "\n",
    "result = smallest_defensive_alliance(G)\n",
    "print(\"Smallest defensive alliance:\", result)\n"
   ]
  },
  {
   "cell_type": "code",
   "execution_count": null,
   "metadata": {},
   "outputs": [],
   "source": []
  }
 ],
 "metadata": {
  "kernelspec": {
   "display_name": "Python 3 (ipykernel)",
   "language": "python",
   "name": "python3"
  },
  "language_info": {
   "codemirror_mode": {
    "name": "ipython",
    "version": 3
   },
   "file_extension": ".py",
   "mimetype": "text/x-python",
   "name": "python",
   "nbconvert_exporter": "python",
   "pygments_lexer": "ipython3",
   "version": "3.9.13"
  }
 },
 "nbformat": 4,
 "nbformat_minor": 2
}
