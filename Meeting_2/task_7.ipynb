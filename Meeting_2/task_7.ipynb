{
 "cells": [
  {
   "cell_type": "code",
   "execution_count": 71,
   "metadata": {},
   "outputs": [],
   "source": [
    "def sort_and_swap_vertices(input_file, output_file):\n",
    "    # Initialize a list to store the lines of the input file.\n",
    "    lines = []\n",
    "    \n",
    "    # Read the input file and store its lines.\n",
    "    with open(input_file, 'r') as file:\n",
    "        lines = file.readlines()\n",
    "    \n",
    "    \n",
    "    # Open the output file for writing.\n",
    "    with open(output_file, 'w') as file:\n",
    "        for line in lines:\n",
    "            parts = line.strip().split()\n",
    "            if len(parts) == 3:\n",
    "                vertex_1, vertex_2, weight = parts[0], parts[1], parts[2]\n",
    "                # Check if vertex_1 is not greater than vertex_2 and swap them if necessary.\n",
    "                if vertex_1 >= vertex_2:\n",
    "                    vertex_1, vertex_2 = vertex_2, vertex_1\n",
    "                # Write the line to the output file.\n",
    "                file.write(f\"{vertex_1}  {vertex_2}  {weight}\\n\")\n",
    "    \n",
    "\n",
    "\n",
    "    \n",
    "    # Read the input file and store its lines.\n",
    "    with open(output_file, 'r') as file:\n",
    "        lines = file.readlines()\n",
    "    \n",
    "    # Sort the lines based on the first column (vertex_1).\n",
    "    sorted_lines = sorted(lines, key=lambda line: line.split()[0])\n",
    "    \n",
    "    # Open the output file for writing.\n",
    "    with open(output_file, 'w') as file:\n",
    "        for line in sorted_lines:\n",
    "            parts = line.strip().split()\n",
    "            if len(parts) == 3:\n",
    "                vertex_1, vertex_2, weight = parts[0], parts[1], parts[2]\n",
    "                # Write the line to the output file.\n",
    "                file.write(f\"{vertex_1}  {vertex_2}  {weight}\\n\")\n",
    "\n",
    "\n"
   ]
  },
  {
   "cell_type": "code",
   "execution_count": 70,
   "metadata": {},
   "outputs": [],
   "source": [
    "# Usage:\n",
    "input_file = r\"D:\\Edu\\01-Data Science_TU\\_Current_Semester\\RCS\\Algorithms on Signed Graphs\\signed network\\signed network\\test.txt\"\n",
    "\n",
    "output_file = 'sorted_edge_weights.txt'\n",
    "sort_and_swap_vertices(input_file, output_file)\n",
    "\n",
    "# The sorted and swapped lines are written to 'sorted_edge_weights.txt'."
   ]
  },
  {
   "cell_type": "code",
   "execution_count": 84,
   "metadata": {},
   "outputs": [],
   "source": [
    "def process_input(input_file, output_file):\n",
    "    # Initialize dictionaries to store counts for vertices.\n",
    "    vertex_counts = {}\n",
    "\n",
    "    # Read the input file and collect counts for vertices.\n",
    "    with open(input_file, 'r') as file:\n",
    "        for line in file:\n",
    "            vertex_1, vertex_2, weight = map(int, line.strip().split())\n",
    "            \n",
    "            # Update counts for vertex_1.\n",
    "            if vertex_1 not in vertex_counts:\n",
    "                vertex_counts[vertex_1] = {'1': 0, '-1': 0}\n",
    "            if weight == 1:\n",
    "                vertex_counts[vertex_1]['1'] += 1\n",
    "            elif weight == -1:\n",
    "                vertex_counts[vertex_1]['-1'] += 1\n",
    "            \n",
    "            # Update counts for vertex_2.\n",
    "            if vertex_2 not in vertex_counts:\n",
    "                vertex_counts[vertex_2] = {'1': 0, '-1': 0}\n",
    "            if weight == 1:\n",
    "                vertex_counts[vertex_2]['1'] += 1\n",
    "            elif weight == -1:\n",
    "                vertex_counts[vertex_2]['-1'] += 1\n",
    "\n",
    "    # Collect non-repeating vertices and their counts.\n",
    "    non_repeating_vertices = {}\n",
    "    for vertex, counts in vertex_counts.items():\n",
    "        if vertex not in non_repeating_vertices:\n",
    "            non_repeating_vertices[vertex] = counts\n",
    "\n",
    "    # Write the counts to the output file.\n",
    "    with open(output_file, 'w') as file:\n",
    "        for vertex, counts in non_repeating_vertices.items():\n",
    "            ones = counts['1']\n",
    "            minus_ones = counts['-1']\n",
    "            if(0+1>=minus_ones):\n",
    "                file.write(f\"Minimum defensive vetex: {vertex} - positive_deg: {ones}, negative_deg: {minus_ones}\\n\")\n"
   ]
  },
  {
   "cell_type": "code",
   "execution_count": 85,
   "metadata": {},
   "outputs": [],
   "source": [
    "process_input(\"sorted_edge_weights.txt\", \"output.txt\")"
   ]
  },
  {
   "cell_type": "code",
   "execution_count": null,
   "metadata": {},
   "outputs": [],
   "source": []
  }
 ],
 "metadata": {
  "kernelspec": {
   "display_name": "Python 3 (ipykernel)",
   "language": "python",
   "name": "python3"
  },
  "language_info": {
   "codemirror_mode": {
    "name": "ipython",
    "version": 3
   },
   "file_extension": ".py",
   "mimetype": "text/x-python",
   "name": "python",
   "nbconvert_exporter": "python",
   "pygments_lexer": "ipython3",
   "version": "3.9.13"
  }
 },
 "nbformat": 4,
 "nbformat_minor": 2
}
