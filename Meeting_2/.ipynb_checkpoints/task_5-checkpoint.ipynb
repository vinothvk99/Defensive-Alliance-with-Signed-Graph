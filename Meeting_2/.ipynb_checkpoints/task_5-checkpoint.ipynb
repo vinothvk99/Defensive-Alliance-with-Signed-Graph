{
 "cells": [
  {
   "cell_type": "markdown",
   "id": "01610403",
   "metadata": {},
   "source": [
    "Task 5"
   ]
  },
  {
   "cell_type": "code",
   "execution_count": 5,
   "id": "1def2aa7",
   "metadata": {},
   "outputs": [],
   "source": [
    "from itertools import combinations\n",
    "import random\n",
    "import itertools\n",
    "import networkx as nx\n",
    "import matplotlib.pyplot as plt\n",
    "import re\n",
    "import matplotlib.colors as mcolors\n",
    "import time\n",
    "from datetime import timedelta"
   ]
  },
  {
   "cell_type": "code",
   "execution_count": 6,
   "id": "6567c999",
   "metadata": {},
   "outputs": [],
   "source": [
    "def read_signed_graph_from_file(file_path):\n",
    "    graph = {}\n",
    "    with open(file_path, 'r') as file:\n",
    "        for line in file:\n",
    "            source, target, weight = map(int, line.strip().split())\n",
    "            if source not in graph:\n",
    "                graph[source] = []\n",
    "            if target not in graph:\n",
    "                graph[target] = []\n",
    "            graph[source].append((target, weight))\n",
    "            graph[target].append((source, weight))\n",
    "    return graph\n",
    "\n",
    "def compute_max_degrees(graph):\n",
    "    max_degree = 0\n",
    "    for node in graph:\n",
    "        # Initialize variables to count positive and negative degrees of the current vertex\n",
    "        positive_degree = 0\n",
    "        negative_degree = 0\n",
    "        for neighbor, sign in graph[node]:\n",
    "            # Count positive and negative edges\n",
    "            if sign == 1:\n",
    "                positive_degree += 1\n",
    "            else:\n",
    "                negative_degree += 1\n",
    "\n",
    "        \n",
    "        total_degree = positive_degree - negative_degree\n",
    "        if total_degree >= 1:\n",
    "            max_degree = max(max_degree, positive_degree)\n",
    "        else:\n",
    "            max_degree = max(max_degree, 0)\n",
    "    return max_degree\n"
   ]
  },
  {
   "cell_type": "code",
   "execution_count": 7,
   "id": "5f0c478e",
   "metadata": {},
   "outputs": [],
   "source": [
    "def check_condition2(s, sbar, pos_count = 0):\n",
    "    is_check = False\n",
    "    for s_node in s:\n",
    "        if s_node not in asd:\n",
    "            neg_count = 0\n",
    "            for sbar_node in sbar:\n",
    "                for nei, sign in graph[sbar_node]:\n",
    "                    if nei == s_node:\n",
    "                        if sign == -1:\n",
    "                            neg_count += 1\n",
    "            if pos_count + 1 >= neg_count:\n",
    "                is_check = True\n",
    "    \n",
    "    if is_check:\n",
    "        asd.append(s) \n",
    "            \n",
    "def check_condition1(s):\n",
    "    is_statisfied = False\n",
    "    for vertex1 in s:\n",
    "        pos_count = 0\n",
    "        neg_count = 0\n",
    "        for nei, sign in graph[vertex1]:\n",
    "            for vertex2 in s:\n",
    "                if nei == vertex2:\n",
    "                    if sign == 1:\n",
    "                        pos_count += 1\n",
    "                    else:\n",
    "                        neg_count += 1\n",
    "        if pos_count + 1 >= neg_count:\n",
    "            is_statisfied = True\n",
    "        else:\n",
    "            is_statisfied = False\n",
    "            break\n",
    "    return is_statisfied, pos_count\n",
    "\n",
    "\n",
    "def preparing_edges_to_visualize(file_path):\n",
    "    edges = []\n",
    "    with open(file_path, \"r\") as file:\n",
    "        for line in file:\n",
    "            #u, v, sign = map(int, line.strip().split(\"\\t\"))\n",
    "            u, v, sign = map(int, re.split(r'\\t|\\s+', line.strip()))\n",
    "            edges.append((u, v, {'sign': sign}))\n",
    "    return edges"
   ]
  },
  {
   "cell_type": "code",
   "execution_count": 28,
   "id": "b3108f7a",
   "metadata": {},
   "outputs": [
    {
     "name": "stdout",
     "output_type": "stream",
     "text": [
      "Maximum degree is 0\n",
      "Smallest Defensive Alliance\n",
      "[(1,), (2,)]\n",
      "[1, 2]\n"
     ]
    },
    {
     "data": {
      "image/png": "[encoded data removed]",
      "text/plain": [
       "<Figure size 640x480 with 1 Axes>"
      ]
     },
     "metadata": {},
     "output_type": "display_data"
    },
    {
     "data": {
      "text/plain": [
       "<Figure size 800x600 with 0 Axes>"
      ]
     },
     "metadata": {},
     "output_type": "display_data"
    }
   ],
   "source": [
    "file_path = r\"/Users/mac/Desktop/Desktop/RCS_Signed_Graph/Meeting_2/graph_check/ads_graph_check2.txt\"\n",
    "\n",
    "# read graph and convert it into dictionary \n",
    "graph = read_signed_graph_from_file(file_path) \n",
    "\n",
    "# find max degree of the graph and if max degree is 3 then check for Smallest defensive alliance, else print\n",
    "max_degree = compute_max_degrees(graph)\n",
    "print(\"Maximum degree is\",max_degree)\n",
    "if max_degree <= 3:\n",
    "    \n",
    "    # take every nodes from graph as list\n",
    "    nodes = list(graph.keys())\n",
    "    asd = list() # creating empty list of defencise alliance\n",
    "    \n",
    "    # Generating all 6 combinations\n",
    "    for i in range(1, len(nodes)):\n",
    "        if not asd: #if asd list is empty then continue finding asd \n",
    "            s = list(combinations(nodes, i))\n",
    "            for combo in s:\n",
    "                s = combo \n",
    "                sbar = [x for x in nodes if x not in s]\n",
    "    #             print(s,sbar)\n",
    "                if len(s) > 1:\n",
    "    #                 print(\"combination length greater 1\")\n",
    "                    is_checked, pos_count = check_condition1(s)\n",
    "                    if is_checked:\n",
    "                        check_condition2(s, sbar, pos_count)\n",
    "                else:\n",
    "                    check_condition2(s,sbar) \n",
    "        else:\n",
    "            break\n",
    "         \n",
    "    if not asd:\n",
    "        print(\"There is no Smallest Defensive Alliance for this graph\")\n",
    "    else:\n",
    "        print(\"Smallest Defensive Alliance\")\n",
    "        print(asd) \n",
    "else:\n",
    "    print(\"The maximum degree of this graph is not 3\")\n",
    "    \n",
    "    \n",
    "edges = preparing_edges_to_visualize(file_path)\n",
    "\n",
    "# Create a signed graph\n",
    "signed_graph = nx.Graph()\n",
    "signed_graph.add_edges_from(edges)\n",
    "\n",
    "# Visualization\n",
    "pos = nx.spring_layout(signed_graph)\n",
    "positive_edges = [(u, v) for u, v, data in signed_graph.edges(data=True) if data['sign'] == 1]\n",
    "negative_edges = [(u, v) for u, v, data in signed_graph.edges(data=True) if data['sign'] == -1]\n",
    "\n",
    "asd_list = list(set(item for sublist in asd for item in sublist))\n",
    "\n",
    "# Initialize lists for clustering\n",
    "clu = [list(filter(lambda x: x in asd_list, list(graph.keys()))), list(filter(lambda x: x not in asd_list, list(graph.keys())))]\n",
    "\n",
    "# Create a dictionary to map clusters to colors\n",
    "all_colors = list(mcolors.CSS4_COLORS.keys())\n",
    "random.shuffle(all_colors)\n",
    "cluster_colors = {tuple(cluster): all_colors[i % len(all_colors)] for i, cluster in enumerate(clu)}\n",
    "\n",
    "for cluster in clu:\n",
    "    color = cluster_colors[tuple(cluster)]\n",
    "    nx.draw_networkx_nodes(signed_graph, pos, nodelist = cluster, node_color=color, node_size=500, edgecolors='black', linewidths=1.0)\n",
    "nx.draw_networkx_edges(signed_graph, pos, edgelist=positive_edges, edge_color='green')\n",
    "nx.draw_networkx_edges(signed_graph, pos, edgelist=negative_edges, edge_color='red')\n",
    "nx.draw_networkx_labels(signed_graph, pos, font_size=12, font_color='black')\n",
    "\n",
    "plt.axis('off')\n",
    "plt.figure(figsize=(8,6))\n",
    "plt.show()"
   ]
  },
  {
   "cell_type": "code",
   "execution_count": 27,
   "id": "fa82cc95",
   "metadata": {},
   "outputs": [
    {
     "name": "stdout",
     "output_type": "stream",
     "text": [
      "[1, 2, 3, 4, 5, 6, 7, 8]\n"
     ]
    }
   ],
   "source": [
    "input_list = [(1, 2), (1, 3), (2, 4), (2, 5), (3, 4), (4, 5), (5, 6), (5, 7), (6, 8), (7, 8)]\n",
    "\n",
    "output_list = list(set(item for sublist in input_list for item in sublist))\n",
    "\n",
    "print(output_list)"
   ]
  },
  {
   "cell_type": "code",
   "execution_count": null,
   "id": "b585bbe0",
   "metadata": {},
   "outputs": [],
   "source": []
  }
 ],
 "metadata": {
  "kernelspec": {
   "display_name": "Python 3 (ipykernel)",
   "language": "python",
   "name": "python3"
  },
  "language_info": {
   "codemirror_mode": {
    "name": "ipython",
    "version": 3
   },
   "file_extension": ".py",
   "mimetype": "text/x-python",
   "name": "python",
   "nbconvert_exporter": "python",
   "pygments_lexer": "ipython3",
   "version": "3.9.13"
  }
 },
 "nbformat": 4,
 "nbformat_minor": 5
}
