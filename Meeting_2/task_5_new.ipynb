{
 "cells": [
  {
   "cell_type": "markdown",
   "id": "2e927f5e",
   "metadata": {},
   "source": [
    "Task 7"
   ]
  },
  {
   "cell_type": "code",
   "execution_count": 102,
   "id": "06ca90a2",
   "metadata": {},
   "outputs": [],
   "source": [
    "from itertools import combinations"
   ]
  },
  {
   "cell_type": "code",
   "execution_count": 123,
   "id": "65f66fc2",
   "metadata": {},
   "outputs": [],
   "source": [
    "def read_signed_graph_from_file(file_path):\n",
    "    graph = {}\n",
    "    with open(file_path, 'r') as file:\n",
    "        for line in file:\n",
    "            source, target, weight = map(int, line.strip().split())\n",
    "            if source not in graph:\n",
    "                graph[source] = []\n",
    "            if target not in graph:\n",
    "                graph[target] = []\n",
    "            graph[source].append((target, weight))\n",
    "            graph[target].append((source, weight))\n",
    "    return graph\n",
    "\n",
    "def compute_max_degrees(graph):\n",
    "    max_degree = 0\n",
    "    for node in graph:\n",
    "        # Initialize variables to count positive and negative degrees of the current vertex\n",
    "        positive_degree = 0\n",
    "        negative_degree = 0\n",
    "        for neighbor, sign in graph[node]:\n",
    "            # Count positive and negative edges\n",
    "            if sign == 1:\n",
    "                positive_degree += 1\n",
    "            else:\n",
    "                negative_degree += 1\n",
    "\n",
    "        # Update minimum degree if necessary\n",
    "        total_degree = positive_degree + negative_degree\n",
    "        max_degree = max(max_degree, total_degree)\n",
    "\n",
    "    return max_degree\n"
   ]
  },
  {
   "cell_type": "code",
   "execution_count": 124,
   "id": "ca2d011f",
   "metadata": {},
   "outputs": [],
   "source": [
    "def check_condition2(s, sbar, pos_count = 0):\n",
    "    is_check = False\n",
    "    for s_node in s:\n",
    "#         print(\"checking conditon 2 for s node\", s_node)\n",
    "        if s_node not in asd:\n",
    "            neg_count = 0\n",
    "            for sbar_node in sbar:\n",
    "                for nei, sign in graph[sbar_node]:\n",
    "                    if nei == s_node:\n",
    "                        if sign == -1:\n",
    "                            neg_count += 1\n",
    "            if pos_count + 1 >= neg_count:\n",
    "#                 print(\"condition 2 statisfied\")\n",
    "                is_check = True\n",
    "    \n",
    "    if is_check:\n",
    "        asd.append(s) \n",
    "            \n",
    "def check_condition1(s):\n",
    "    is_statisfied = False\n",
    "    for vertex1 in s:\n",
    "#         print(\"checking conditon 1 for vertex\" , vertex1)\n",
    "        pos_count = 0\n",
    "        neg_count = 0\n",
    "        for nei, sign in graph[vertex1]:\n",
    "            for vertex2 in s:\n",
    "                if nei == vertex2:\n",
    "                    if sign == 1:\n",
    "                        pos_count += 1\n",
    "                    else:\n",
    "                        neg_count += 1\n",
    "        if pos_count + 1 >= neg_count:\n",
    "#             print(\"condition 1 statisfied\")\n",
    "            is_statisfied =  True\n",
    "        else:\n",
    "            is_statisfied =  False\n",
    "    return is_statisfied, pos_count"
   ]
  },
  {
   "cell_type": "code",
   "execution_count": 127,
   "id": "3b2c4c2b",
   "metadata": {},
   "outputs": [
    {
     "name": "stdout",
     "output_type": "stream",
     "text": [
      "The maximum degree of this graph is not 3\n"
     ]
    }
   ],
   "source": [
    "file_path = r\"/Users/mac/Desktop/Desktop/RCS_Signed_Graph/Meeting_2/graph_check/ads_graph_check2.txt\"\n",
    "graph = read_signed_graph_from_file(file_path)\n",
    "# print(graph)\n",
    "max_degree = compute_max_degrees(graph)\n",
    "if max_degree == 3:\n",
    "    nodes = list(graph.keys())\n",
    "    asd = list()\n",
    "    # Generate all 6 combinations\n",
    "    for i in range(1, len(nodes)):\n",
    "        if not asd:\n",
    "            s = list(combinations(a, i))\n",
    "            for combo in s:\n",
    "                s = combo \n",
    "                sbar = [x for x in nodes if x not in s]\n",
    "    #             print(s,sbar)\n",
    "                if len(s) > 1:\n",
    "    #                 print(\"combination length greater 1\")\n",
    "                    is_checked, pos_count = check_condition1(s)\n",
    "                    if is_checked:\n",
    "                        check_condition2(s, sbar, pos_count)\n",
    "                else:\n",
    "                    check_condition2(s,sbar) \n",
    "        else:\n",
    "            print(\"Smallest Defensive Alliance\")\n",
    "            print(asd)\n",
    "            break\n",
    "else:\n",
    "    print(\"The maximum degree of this graph is not 3\")"
   ]
  },
  {
   "cell_type": "code",
   "execution_count": null,
   "id": "507f05eb",
   "metadata": {},
   "outputs": [],
   "source": []
  },
  {
   "cell_type": "code",
   "execution_count": null,
   "id": "1b9c0fa4",
   "metadata": {},
   "outputs": [],
   "source": []
  }
 ],
 "metadata": {
  "kernelspec": {
   "display_name": "Python 3 (ipykernel)",
   "language": "python",
   "name": "python3"
  },
  "language_info": {
   "codemirror_mode": {
    "name": "ipython",
    "version": 3
   },
   "file_extension": ".py",
   "mimetype": "text/x-python",
   "name": "python",
   "nbconvert_exporter": "python",
   "pygments_lexer": "ipython3",
   "version": "3.9.13"
  }
 },
 "nbformat": 4,
 "nbformat_minor": 5
}
